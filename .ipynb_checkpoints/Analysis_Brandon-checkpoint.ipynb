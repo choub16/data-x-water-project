{
 "cells": [
  {
   "cell_type": "code",
   "execution_count": null,
   "metadata": {
    "collapsed": true
   },
   "outputs": [],
   "source": [
    "import pandas as pd\n",
    "import numpy as np\n",
    "import matplotlib.pyplot as plt\n",
    "%matplotlib inline\n",
    "plt.rcParams['figure.figsize'] = (7, 4.5)\n",
    "data = pd.read_csv(\"OutliersRemoved2.csv\")\n",
    "from sklearn.linear_model import LogisticRegression\n",
    "from sklearn.svm import SVC, LinearSVC\n",
    "from sklearn.ensemble import RandomForestClassifier\n",
    "from sklearn.neighbors import KNeighborsClassifier\n",
    "from sklearn.naive_bayes import GaussianNB # Gaussian Naive Bays\n",
    "from sklearn.linear_model import Perceptron\n",
    "from sklearn.linear_model import SGDClassifier #stochastic gradient descent\n",
    "from sklearn.tree import DecisionTreeClassifier\n",
    "from sklearn.model_selection import train_test_split\n",
    "from sklearn.utils import shuffle"
   ]
  },
  {
   "cell_type": "code",
   "execution_count": null,
   "metadata": {},
   "outputs": [],
   "source": [
    "import xgboost as xgb"
   ]
  },
  {
   "cell_type": "code",
   "execution_count": null,
   "metadata": {
    "collapsed": true
   },
   "outputs": [],
   "source": [
    "# drop all non_numericals except for province\n",
    "data = data.drop(data.columns[[0,1,3,4,5]],axis = 1)"
   ]
  },
  {
   "cell_type": "code",
   "execution_count": null,
   "metadata": {},
   "outputs": [],
   "source": [
    "plt.ylabel('Net worth (10,000 yuan)')\n",
    "plt.xlabel(\"Total Volume of water sold (10,000 cubic metres/year)\")\n",
    "plt.title('Net Worth vs. Population')\n",
    "plt.xticks(())\n",
    "plt.yticks(())\n",
    "plt.scatter(data[\"3.1. Total Volume of water sold (10,000 cubic metres/year)\"],data['20.2. Net worth (10,000 yuan)'])\n"
   ]
  },
  {
   "cell_type": "code",
   "execution_count": null,
   "metadata": {},
   "outputs": [],
   "source": [
    "print(\"Less water, lower net worth\")"
   ]
  },
  {
   "cell_type": "code",
   "execution_count": 6,
   "metadata": {},
   "outputs": [],
   "source": [
    "plt.ylabel(\"Overall rate of water that meets standard (%)  \")\n",
    "plt.xlabel('Total city population with water access (10,000s)')\n",
    "plt.title('Percentage of water meeting standard vs. Population')\n",
    "plt.xticks(())\n",
    "plt.yticks(())\n",
    "plt.scatter(data['5.3. Total city population with water access (10,000s)'],data[\"14.1. Overall rate of water that meets standard (%)\"])\n"
   ]
  },
  {
   "cell_type": "code",
   "execution_count": 7,
   "metadata": {
    "scrolled": true
   },
   "outputs": [
    {
     "data": {
      "text/plain": [
       "<matplotlib.collections.PathCollection at 0x219e8c65908>"
      ]
     },
     "execution_count": 7,
     "metadata": {},
     "output_type": "execute_result"
    },
    {
     "data": {
      "image/png": "[encoded data removed]",
      "text/plain": [
       "<matplotlib.figure.Figure at 0x219e733bba8>"
      ]
     },
     "metadata": {},
     "output_type": "display_data"
    }
   ],
   "source": [
    "plt.ylabel(\"Overall rate of water that meets standard (%)  \")\n",
    "plt.xlabel(\"Total Volume of water sold (10,000 cubic metres/year)\")\n",
    "plt.title('Percentage of water meeting standard vs. Water Sold')\n",
    "plt.xticks(())\n",
    "plt.yticks(())\n",
    "plt.scatter(data[\"3.1. Total Volume of water sold (10,000 cubic metres/year)\"],data[\"14.1. Overall rate of water that meets standard (%)\"])\n",
    "\n"
   ]
  },
  {
   "cell_type": "code",
   "execution_count": 8,
   "metadata": {},
   "outputs": [
    {
     "name": "stdout",
     "output_type": "stream",
     "text": [
      "Less acceptable water for cities with less population and water sold\n"
     ]
    }
   ],
   "source": [
    "print(\"Less acceptable water for cities with less population and water sold\")"
   ]
  },
  {
   "cell_type": "code",
   "execution_count": 9,
   "metadata": {
    "collapsed": true
   },
   "outputs": [],
   "source": [
    "# shuffle, test_train_split, and classifier\n",
    "def create_frame(d):\n",
    "    df = pd.DataFrame.copy(d)\n",
    "    df = shuffle(df, random_state = 0)\n",
    "    features = df.describe()\n",
    "    # imputation by subbing with mean on copy of data\n",
    "    for i in list(df):\n",
    "        if(i != 'Province' and i != 'Year'):\n",
    "            df[i] = df[i].fillna(features[i].loc[\"mean\"])\n",
    "    \n",
    "    return df"
   ]
  },
  {
   "cell_type": "code",
   "execution_count": 10,
   "metadata": {
    "collapsed": true
   },
   "outputs": [],
   "source": [
    "df1 = create_frame(data)"
   ]
  },
  {
   "cell_type": "code",
   "execution_count": 11,
   "metadata": {},
   "outputs": [
    {
     "name": "stdout",
     "output_type": "stream",
     "text": [
      "without categorization, testing for Province\n",
      "\n"
     ]
    }
   ],
   "source": [
    "print(\"without categorization, testing for Province\\n\")\n",
    "X = df1\n",
    "X = X.drop('Province', axis = 1)\n",
    "Y = df1['Province']\n",
    "X_train, X_test, Y_train, Y_test = train_test_split(X, Y, test_size=0.20, random_state = 0)"
   ]
  },
  {
   "cell_type": "code",
   "execution_count": 12,
   "metadata": {},
   "outputs": [
    {
     "name": "stdout",
     "output_type": "stream",
     "text": [
      "logistic regression training accuracy:  0.280777537797\n",
      "logistic regression testing accuracy:  0.239202657807\n"
     ]
    }
   ],
   "source": [
    "logreg = LogisticRegression()\n",
    "logreg.fit(X_train, Y_train)\n",
    "print(\"logistic regression training accuracy: \",logreg.score(X_train,Y_train))\n",
    "print(\"logistic regression testing accuracy: \",logreg.score(X_test,Y_test) )"
   ]
  },
  {
   "cell_type": "code",
   "execution_count": 13,
   "metadata": {},
   "outputs": [
    {
     "name": "stdout",
     "output_type": "stream",
     "text": [
      "SVM training accuracy:  0.832364180096\n",
      "SVM testing accuracy:  0.090365448505\n"
     ]
    }
   ],
   "source": [
    "svc = SVC()\n",
    "svc.fit(X_train, Y_train)\n",
    "print(\"SVM training accuracy: \",svc.score(X_train, Y_train))\n",
    "print(\"SVM testing accuracy: \",svc.score(X_test,Y_test) )"
   ]
  },
  {
   "cell_type": "code",
   "execution_count": 14,
   "metadata": {},
   "outputs": [
    {
     "name": "stdout",
     "output_type": "stream",
     "text": [
      "Perceptron training accuracy:  0.0714404386111\n",
      "Perceptron testing accuracy:  0.0777408637874\n"
     ]
    }
   ],
   "source": [
    "perceptron = Perceptron(max_iter = 1000, tol = None)\n",
    "perceptron.fit(X_train, Y_train)\n",
    "print(\"Perceptron training accuracy: \",perceptron.score(X_train, Y_train))\n",
    "print(\"Perceptron testing accuracy: \",perceptron.score(X_test,Y_test) )"
   ]
  },
  {
   "cell_type": "code",
   "execution_count": 34,
   "metadata": {},
   "outputs": [
    {
     "name": "stdout",
     "output_type": "stream",
     "text": [
      "KNN training accuracy:  0.479315500914\n",
      "KNN testing accuracy:  0.214617940199\n"
     ]
    }
   ],
   "source": [
    "knn = KNeighborsClassifier(n_neighbors = 3)\n",
    "knn.fit(X_train, Y_train)\n",
    "print(\"KNN training accuracy: \",knn.score(X_train, Y_train))\n",
    "print(\"KNN testing accuracy: \",knn.score(X_test,Y_test) )"
   ]
  },
  {
   "cell_type": "code",
   "execution_count": 35,
   "metadata": {},
   "outputs": [
    {
     "name": "stdout",
     "output_type": "stream",
     "text": [
      "random forest training accuracy:  0.83552085064\n",
      "random forest testing accuracy:  0.727574750831\n"
     ]
    }
   ],
   "source": [
    "random_forest = RandomForestClassifier(n_estimators=1000)\n",
    "random_forest.fit(X_train, Y_train)\n",
    "print(\"random forest training accuracy: \",random_forest.score(X_train, Y_train))\n",
    "print(\"random forest testing accuracy: \",random_forest.score(X_test,Y_test) )"
   ]
  },
  {
   "cell_type": "code",
   "execution_count": 36,
   "metadata": {},
   "outputs": [
    {
     "name": "stdout",
     "output_type": "stream",
     "text": [
      "xgboost training accuracy:  0.8355\n",
      "xgboost testing accuracy:  0.7362\n"
     ]
    }
   ],
   "source": [
    "gradboost = xgb.XGBClassifier(n_estimators=1000)\n",
    "gradboost.fit(X_train, Y_train)\n",
    "Y_pred = gradboost.predict(X_test)\n",
    "acc_perceptron = round(gradboost.score(X_train, Y_train) * 100, 2)\n",
    "print(\"xgboost training accuracy: \",round(gradboost.score(X_train, Y_train), 4))\n",
    "print(\"xgboost testing accuracy: \",round(gradboost.score(X_test, Y_test), 4))"
   ]
  },
  {
   "cell_type": "code",
   "execution_count": 37,
   "metadata": {
    "collapsed": true
   },
   "outputs": [],
   "source": [
    "# categorize all columns except for province and year for the second run\n",
    "df2 = create_frame(data)\n",
    "for i in list(df2):\n",
    "    if(i != 'Province' and i != 'Year'):\n",
    "        buckets = [str(i) for i in range(10)]\n",
    "        classes = pd.cut(df2[i],10,labels=buckets)\n",
    "        df2[i]  = classes.map({'0': 0, '1':1,'2': 2,'3':3,'4' :4,'5' :5,'6' :6,'7' :7,'8' :8,'9' :9})\n"
   ]
  },
  {
   "cell_type": "code",
   "execution_count": 38,
   "metadata": {},
   "outputs": [
    {
     "name": "stdout",
     "output_type": "stream",
     "text": [
      "with categorization\n",
      "\n"
     ]
    }
   ],
   "source": [
    "print(\"with categorization\\n\")\n",
    "X2 = df2\n",
    "X2 = X2.drop('Province', axis =1)\n",
    "Y2 = df2['Province']\n",
    "X2_train, X2_test, Y2_train, Y2_test = train_test_split(X2, Y2, test_size=0.20, random_state = 0)"
   ]
  },
  {
   "cell_type": "code",
   "execution_count": 39,
   "metadata": {},
   "outputs": [
    {
     "name": "stdout",
     "output_type": "stream",
     "text": [
      "logisitic regression training accuracy:  0.49509885363\n",
      "logisitic regression testing accuracy:  0.439867109635\n"
     ]
    }
   ],
   "source": [
    "logreg2 = LogisticRegression()\n",
    "logreg2.fit(X2_train, Y2_train)\n",
    "print(\"logisitic regression training accuracy: \",logreg2.score(X2_train,Y2_train))\n",
    "print(\"logisitic regression testing accuracy: \",logreg2.score(X2_test,Y2_test) )"
   ]
  },
  {
   "cell_type": "code",
   "execution_count": 40,
   "metadata": {},
   "outputs": [
    {
     "name": "stdout",
     "output_type": "stream",
     "text": [
      "SVM training accuracy:  0.64130254195\n",
      "SVM testing accuracy:  0.523588039867\n"
     ]
    }
   ],
   "source": [
    "svc2 = SVC()\n",
    "svc2.fit(X2_train, Y2_train)\n",
    "print(\"SVM training accuracy: \",svc2.score(X2_train, Y2_train))\n",
    "print(\"SVM testing accuracy: \",svc2.score(X2_test,Y2_test) )"
   ]
  },
  {
   "cell_type": "code",
   "execution_count": 41,
   "metadata": {},
   "outputs": [
    {
     "name": "stdout",
     "output_type": "stream",
     "text": [
      "Perceptron training accuracy:  0.139225785014\n",
      "Perceptron testing accuracy:  0.122259136213\n"
     ]
    }
   ],
   "source": [
    "perceptron2 = Perceptron(max_iter = 2000, tol = None)\n",
    "perceptron2.fit(X2_train, Y2_train)\n",
    "print(\"Perceptron training accuracy: \",perceptron2.score(X2_train, Y2_train))\n",
    "print(\"Perceptron testing accuracy: \",perceptron2.score(X2_test,Y2_test) )"
   ]
  },
  {
   "cell_type": "code",
   "execution_count": 42,
   "metadata": {},
   "outputs": [
    {
     "name": "stdout",
     "output_type": "stream",
     "text": [
      "KNN training accuracy:  0.668051171291\n",
      "KNN testing accuracy:  0.473089700997\n"
     ]
    }
   ],
   "source": [
    "knn2 = KNeighborsClassifier(n_neighbors = 3)\n",
    "knn2.fit(X2_train, Y2_train)\n",
    "print(\"KNN training accuracy: \",knn2.score(X2_train, Y2_train))\n",
    "print(\"KNN testing accuracy: \",knn2.score(X2_test,Y2_test) )"
   ]
  },
  {
   "cell_type": "code",
   "execution_count": 43,
   "metadata": {},
   "outputs": [
    {
     "name": "stdout",
     "output_type": "stream",
     "text": [
      "random forest training accuracy:  0.833361023426\n",
      "random forest testing accuracy:  0.662458471761\n"
     ]
    }
   ],
   "source": [
    "random_forest2 = RandomForestClassifier(n_estimators=1000)\n",
    "random_forest2.fit(X2_train, Y2_train)\n",
    "print(\"random forest training accuracy: \",random_forest2.score(X2_train, Y2_train))\n",
    "print(\"random forest testing accuracy: \",random_forest2.score(X2_test,Y2_test) )"
   ]
  },
  {
   "cell_type": "code",
   "execution_count": 44,
   "metadata": {},
   "outputs": [
    {
     "name": "stdout",
     "output_type": "stream",
     "text": [
      "xgboost training accuracy:  0.8315\n",
      "xgboost testing accuracy:  0.6432\n"
     ]
    }
   ],
   "source": [
    "gradboost2 = xgb.XGBClassifier(n_estimators=1000)\n",
    "gradboost2.fit(X2_train, Y2_train)\n",
    "Y_pred2 = gradboost2.predict(X2_test)\n",
    "print(\"xgboost training accuracy: \",round(gradboost2.score(X2_train, Y2_train), 4))\n",
    "print(\"xgboost testing accuracy: \",round(gradboost2.score(X2_test, Y2_test), 4))"
   ]
  },
  {
   "cell_type": "code",
   "execution_count": 45,
   "metadata": {},
   "outputs": [
    {
     "name": "stdout",
     "output_type": "stream",
     "text": [
      "df1 (without categorization) xgboost holds the greatest accuracy\n"
     ]
    }
   ],
   "source": [
    "print(\"df1 (without categorization) xgboost holds the greatest accuracy\")"
   ]
  },
  {
   "cell_type": "code",
   "execution_count": 46,
   "metadata": {
    "collapsed": true
   },
   "outputs": [],
   "source": [
    "def plot_model_var_imp( model , X , Y ):\n",
    "    imp = pd.DataFrame( \n",
    "        model.feature_importances_  , \n",
    "        columns = [ 'Importance' ] , \n",
    "        index = X.columns \n",
    "    )\n",
    "    imp = imp.sort_values( [ 'Importance' ] , ascending = True )\n",
    "    imp[:10].plot( kind = 'barh' )\n",
    "    print (model.score( X , Y ))"
   ]
  },
  {
   "cell_type": "code",
   "execution_count": 47,
   "metadata": {},
   "outputs": [
    {
     "name": "stdout",
     "output_type": "stream",
     "text": [
      "test importances for xgboost without categorization\n",
      "0.736212624585\n"
     ]
    },
    {
     "data": {
      "image/png": "[encoded data removed]",
      "text/plain": [
       "<matplotlib.figure.Figure at 0x219dad85a58>"
      ]
     },
     "metadata": {},
     "output_type": "display_data"
    }
   ],
   "source": [
    "print(\"test importances for xgboost without categorization\")\n",
    "plot_model_var_imp(gradboost, X_test, Y_test)"
   ]
  },
  {
   "cell_type": "code",
   "execution_count": 48,
   "metadata": {},
   "outputs": [
    {
     "name": "stdout",
     "output_type": "stream",
     "text": [
      "test importances for random forest without categorization\n",
      "0.727574750831\n"
     ]
    },
    {
     "data": {
      "image/png": "[encoded data removed]",
      "text/plain": [
       "<matplotlib.figure.Figure at 0x219daa2ce10>"
      ]
     },
     "metadata": {},
     "output_type": "display_data"
    }
   ],
   "source": [
    "print(\"test importances for random forest without categorization\")\n",
    "plot_model_var_imp(random_forest, X_test, Y_test)"
   ]
  },
  {
   "cell_type": "code",
   "execution_count": 49,
   "metadata": {},
   "outputs": [
    {
     "name": "stdout",
     "output_type": "stream",
     "text": [
      "tune random forest using GridSearchCV\n",
      "{'bootstrap': True, 'class_weight': None, 'criterion': 'gini', 'max_depth': None, 'max_features': 'auto', 'max_leaf_nodes': None, 'min_impurity_decrease': 0.0, 'min_impurity_split': None, 'min_samples_leaf': 1, 'min_samples_split': 2, 'min_weight_fraction_leaf': 0.0, 'n_estimators': 1000, 'n_jobs': 1, 'oob_score': False, 'random_state': None, 'verbose': 0, 'warm_start': False}\n"
     ]
    }
   ],
   "source": [
    "print(\"tune random forest using GridSearchCV\")\n",
    "from sklearn.model_selection import GridSearchCV\n",
    "print(random_forest.get_params())\n"
   ]
  },
  {
   "cell_type": "code",
   "execution_count": 50,
   "metadata": {
    "collapsed": true
   },
   "outputs": [],
   "source": [
    "#function to plot parameter CV scores\n",
    "def plot_params(param, num_range, index, classifier):\n",
    "    grid_search = GridSearchCV(classifier, param_grid = {param: num_range})\n",
    "    grid_search.fit(X_train, Y_train)\n",
    "    \n",
    "    df = {}\n",
    "    results = grid_search.cv_results_\n",
    "    for i,score in enumerate(results['params']):\n",
    "        df[score[param]] = results['mean_test_score'][i]\n",
    "\n",
    "    df = pd.DataFrame.from_dict(df, orient='index')\n",
    "    df.reset_index(level=0, inplace=True)\n",
    "    df = df.sort_values(by='index')\n",
    " \n",
    "    plt.subplot(3,2,index)\n",
    "    plot = plt.plot(df['index'], df[0])\n",
    "    plt.title(param)\n",
    "    print(grid_search.best_params_)\n",
    "    return plot, df\n",
    "    "
   ]
  },
  {
   "cell_type": "code",
   "execution_count": 51,
   "metadata": {
    "collapsed": true
   },
   "outputs": [],
   "source": [
    "#param values to test: n_estimators, max_features and min_sample_leaf\n",
    "param_vals = {\"n_estimators\": np.arange(1, 500, 20),\"max_features\": np.arange(1, 85, 1)}\n",
    "              "
   ]
  },
  {
   "cell_type": "code",
   "execution_count": 53,
   "metadata": {
    "scrolled": true
   },
   "outputs": [
    {
     "name": "stdout",
     "output_type": "stream",
     "text": [
      "{'n_estimators': 441}\n",
      "{'max_features': 28}\n"
     ]
    },
    {
     "data": {
      "image/png": "[encoded data removed]",
      "text/plain": [
       "<matplotlib.figure.Figure at 0x2199aad9828>"
      ]
     },
     "metadata": {},
     "output_type": "display_data"
    }
   ],
   "source": [
    "RF = RandomForestClassifier()\n",
    "index = 1\n",
    "plt.figure(figsize=(16,12))\n",
    "for param, param_range in dict.items(param_vals):   \n",
    "    plot_params(param, param_range, index, RF)\n",
    "    index += 1"
   ]
  },
  {
   "cell_type": "code",
   "execution_count": 54,
   "metadata": {},
   "outputs": [
    {
     "name": "stdout",
     "output_type": "stream",
     "text": [
      "random forest training accuracy:  0.83552085064\n",
      "random forest testing accuracy:  0.690365448505\n"
     ]
    }
   ],
   "source": [
    "random_forest3 = RandomForestClassifier(n_estimators=301, max_features = 61)\n",
    "random_forest3.fit(X_train, Y_train)\n",
    "print(\"random forest training accuracy: \",random_forest3.score(X_train, Y_train))\n",
    "print(\"random forest testing accuracy: \",random_forest3.score(X_test,Y_test) )\n",
    "# no difference in tuning, general conclusion is to use more n_estimators and default max_features"
   ]
  },
  {
   "cell_type": "code",
   "execution_count": 55,
   "metadata": {},
   "outputs": [
    {
     "name": "stdout",
     "output_type": "stream",
     "text": [
      "random forest training accuracy:  0.83552085064\n",
      "random forest testing accuracy:  0.690365448505\n"
     ]
    }
   ],
   "source": [
    "random_forest4 = RandomForestClassifier(n_estimators=2000)\n",
    "random_forest4.fit(X_train, Y_train)\n",
    "print(\"random forest training accuracy: \",random_forest3.score(X_train, Y_train))\n",
    "print(\"random forest testing accuracy: \",random_forest3.score(X_test,Y_test) )"
   ]
  },
  {
   "cell_type": "code",
   "execution_count": 56,
   "metadata": {},
   "outputs": [
    {
     "name": "stdout",
     "output_type": "stream",
     "text": [
      "tune xgboost using GridSearchCV\n",
      "{'base_score': 0.5, 'colsample_bylevel': 1, 'colsample_bytree': 1, 'gamma': 0, 'learning_rate': 0.1, 'max_delta_step': 0, 'max_depth': 3, 'min_child_weight': 1, 'missing': None, 'n_estimators': 1000, 'nthread': -1, 'objective': 'multi:softprob', 'reg_alpha': 0, 'reg_lambda': 1, 'scale_pos_weight': 1, 'seed': 0, 'silent': True, 'subsample': 1}\n"
     ]
    }
   ],
   "source": [
    "print(\"tune xgboost using GridSearchCV\")\n",
    "print(gradboost.get_params())\n"
   ]
  },
  {
   "cell_type": "code",
   "execution_count": 57,
   "metadata": {
    "collapsed": true
   },
   "outputs": [],
   "source": [
    "# fix this\n",
    "def modelfit(alg, dtrain, predictors,useTrainCV=True, cv_folds=5, early_stopping_rounds=50):\n",
    "    \n",
    "    if useTrainCV:\n",
    "        xgb_param = alg.get_xgb_params()\n",
    "        xgtrain = xgb.DMatrix(dtrain[predictors].values, label=dtrain[target].values)\n",
    "        cvresult = xgb.cv(xgb_param, xgtrain, num_boost_round=alg.get_params()['n_estimators'], nfold=cv_folds,\n",
    "            metrics='auc', early_stopping_rounds=early_stopping_rounds, show_progress=False)\n",
    "        alg.set_params(n_estimators=cvresult.shape[0])\n",
    "    \n",
    "    #Fit the algorithm on the data\n",
    "    alg.fit(dtrain[predictors], dtrain['Disbursed'],eval_metric='auc')\n",
    "        \n",
    "    #Predict training set:\n",
    "    dtrain_predictions = alg.predict(dtrain[predictors])\n",
    "    dtrain_predprob = alg.predict_proba(dtrain[predictors])[:,1]\n",
    "        \n",
    "    #Print model report:\n",
    "    print(\"\\nModel Report\")\n",
    "    print(\"Accuracy : %.4g\" % metrics.accuracy_score(dtrain['Disbursed'].values, dtrain_predictions))\n",
    "    print(\"AUC Score (Train): %f\" % metrics.roc_auc_score(dtrain['Disbursed'], dtrain_predprob))\n",
    "                    \n",
    "    feat_imp = pd.Series(alg.booster().get_fscore()).sort_values(ascending=False)\n",
    "    feat_imp.plot(kind='bar', title='Feature Importances')\n",
    "    plt.ylabel('Feature Importance Score')"
   ]
  },
  {
   "cell_type": "code",
   "execution_count": 58,
   "metadata": {},
   "outputs": [
    {
     "ename": "TypeError",
     "evalue": "Indexing a Series with DataFrame is not supported, use the appropriate DataFrame column",
     "output_type": "error",
     "traceback": [
      "\u001b[1;31m---------------------------------------------------------------------------\u001b[0m",
      "\u001b[1;31mTypeError\u001b[0m                                 Traceback (most recent call last)",
      "\u001b[1;32m<ipython-input-58-f90cbbb47152>\u001b[0m in \u001b[0;36m<module>\u001b[1;34m()\u001b[0m\n\u001b[0;32m     13\u001b[0m  \u001b[0mscale_pos_weight\u001b[0m\u001b[1;33m=\u001b[0m\u001b[1;36m1\u001b[0m\u001b[1;33m,\u001b[0m\u001b[1;33m\u001b[0m\u001b[0m\n\u001b[0;32m     14\u001b[0m  seed=27)\n\u001b[1;32m---> 15\u001b[1;33m \u001b[0mmodelfit\u001b[0m\u001b[1;33m(\u001b[0m\u001b[0mxgb1\u001b[0m\u001b[1;33m,\u001b[0m \u001b[0mY_train\u001b[0m\u001b[1;33m,\u001b[0m \u001b[0mX_train\u001b[0m\u001b[1;33m)\u001b[0m\u001b[1;33m\u001b[0m\u001b[0m\n\u001b[0m",
      "\u001b[1;32m<ipython-input-57-b6099a93b108>\u001b[0m in \u001b[0;36mmodelfit\u001b[1;34m(alg, dtrain, predictors, useTrainCV, cv_folds, early_stopping_rounds)\u001b[0m\n\u001b[0;32m      4\u001b[0m     \u001b[1;32mif\u001b[0m \u001b[0museTrainCV\u001b[0m\u001b[1;33m:\u001b[0m\u001b[1;33m\u001b[0m\u001b[0m\n\u001b[0;32m      5\u001b[0m         \u001b[0mxgb_param\u001b[0m \u001b[1;33m=\u001b[0m \u001b[0malg\u001b[0m\u001b[1;33m.\u001b[0m\u001b[0mget_xgb_params\u001b[0m\u001b[1;33m(\u001b[0m\u001b[1;33m)\u001b[0m\u001b[1;33m\u001b[0m\u001b[0m\n\u001b[1;32m----> 6\u001b[1;33m         \u001b[0mxgtrain\u001b[0m \u001b[1;33m=\u001b[0m \u001b[0mxgb\u001b[0m\u001b[1;33m.\u001b[0m\u001b[0mDMatrix\u001b[0m\u001b[1;33m(\u001b[0m\u001b[0mdtrain\u001b[0m\u001b[1;33m[\u001b[0m\u001b[0mpredictors\u001b[0m\u001b[1;33m]\u001b[0m\u001b[1;33m.\u001b[0m\u001b[0mvalues\u001b[0m\u001b[1;33m,\u001b[0m \u001b[0mlabel\u001b[0m\u001b[1;33m=\u001b[0m\u001b[0mdtrain\u001b[0m\u001b[1;33m[\u001b[0m\u001b[0mtarget\u001b[0m\u001b[1;33m]\u001b[0m\u001b[1;33m.\u001b[0m\u001b[0mvalues\u001b[0m\u001b[1;33m)\u001b[0m\u001b[1;33m\u001b[0m\u001b[0m\n\u001b[0m\u001b[0;32m      7\u001b[0m         cvresult = xgb.cv(xgb_param, xgtrain, num_boost_round=alg.get_params()['n_estimators'], nfold=cv_folds,\n\u001b[0;32m      8\u001b[0m             metrics='auc', early_stopping_rounds=early_stopping_rounds, show_progress=False)\n",
      "\u001b[1;32m~\\Anaconda3\\lib\\site-packages\\pandas\\core\\series.py\u001b[0m in \u001b[0;36m__getitem__\u001b[1;34m(self, key)\u001b[0m\n\u001b[0;32m    640\u001b[0m             \u001b[0mkey\u001b[0m \u001b[1;33m=\u001b[0m \u001b[0mcheck_bool_indexer\u001b[0m\u001b[1;33m(\u001b[0m\u001b[0mself\u001b[0m\u001b[1;33m.\u001b[0m\u001b[0mindex\u001b[0m\u001b[1;33m,\u001b[0m \u001b[0mkey\u001b[0m\u001b[1;33m)\u001b[0m\u001b[1;33m\u001b[0m\u001b[0m\n\u001b[0;32m    641\u001b[0m \u001b[1;33m\u001b[0m\u001b[0m\n\u001b[1;32m--> 642\u001b[1;33m         \u001b[1;32mreturn\u001b[0m \u001b[0mself\u001b[0m\u001b[1;33m.\u001b[0m\u001b[0m_get_with\u001b[0m\u001b[1;33m(\u001b[0m\u001b[0mkey\u001b[0m\u001b[1;33m)\u001b[0m\u001b[1;33m\u001b[0m\u001b[0m\n\u001b[0m\u001b[0;32m    643\u001b[0m \u001b[1;33m\u001b[0m\u001b[0m\n\u001b[0;32m    644\u001b[0m     \u001b[1;32mdef\u001b[0m \u001b[0m_get_with\u001b[0m\u001b[1;33m(\u001b[0m\u001b[0mself\u001b[0m\u001b[1;33m,\u001b[0m \u001b[0mkey\u001b[0m\u001b[1;33m)\u001b[0m\u001b[1;33m:\u001b[0m\u001b[1;33m\u001b[0m\u001b[0m\n",
      "\u001b[1;32m~\\Anaconda3\\lib\\site-packages\\pandas\\core\\series.py\u001b[0m in \u001b[0;36m_get_with\u001b[1;34m(self, key)\u001b[0m\n\u001b[0;32m    648\u001b[0m             \u001b[1;32mreturn\u001b[0m \u001b[0mself\u001b[0m\u001b[1;33m.\u001b[0m\u001b[0m_get_values\u001b[0m\u001b[1;33m(\u001b[0m\u001b[0mindexer\u001b[0m\u001b[1;33m)\u001b[0m\u001b[1;33m\u001b[0m\u001b[0m\n\u001b[0;32m    649\u001b[0m         \u001b[1;32melif\u001b[0m \u001b[0misinstance\u001b[0m\u001b[1;33m(\u001b[0m\u001b[0mkey\u001b[0m\u001b[1;33m,\u001b[0m \u001b[0mABCDataFrame\u001b[0m\u001b[1;33m)\u001b[0m\u001b[1;33m:\u001b[0m\u001b[1;33m\u001b[0m\u001b[0m\n\u001b[1;32m--> 650\u001b[1;33m             raise TypeError('Indexing a Series with DataFrame is not '\n\u001b[0m\u001b[0;32m    651\u001b[0m                             'supported, use the appropriate DataFrame column')\n\u001b[0;32m    652\u001b[0m         \u001b[1;32melse\u001b[0m\u001b[1;33m:\u001b[0m\u001b[1;33m\u001b[0m\u001b[0m\n",
      "\u001b[1;31mTypeError\u001b[0m: Indexing a Series with DataFrame is not supported, use the appropriate DataFrame column"
     ]
    }
   ],
   "source": [
    "#tune boosting params\n",
    "from xgboost.sklearn import XGBClassifier\n",
    "xgb1 = XGBClassifier(\n",
    " learning_rate =0.1,\n",
    " n_estimators=1000,\n",
    " max_depth=5,\n",
    " min_child_weight=1,\n",
    " gamma=0,\n",
    " subsample=0.8,\n",
    " colsample_bytree=0.8,\n",
    " objective= 'binary:logistic',\n",
    " nthread=4,\n",
    " scale_pos_weight=1,\n",
    " seed=27)\n",
    "modelfit(xgb1, Y_train, X_train)"
   ]
  }
 ],
 "metadata": {
  "kernelspec": {
   "display_name": "Python 3",
   "language": "python",
   "name": "python3"
  },
  "language_info": {
   "codemirror_mode": {
    "name": "ipython",
    "version": 3
   },
   "file_extension": ".py",
   "mimetype": "text/x-python",
   "name": "python",
   "nbconvert_exporter": "python",
   "pygments_lexer": "ipython3",
   "version": "3.6.2"
  }
 },
 "nbformat": 4,
 "nbformat_minor": 2
}
